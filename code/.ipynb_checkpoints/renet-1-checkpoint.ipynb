{
 "cells": [
  {
   "cell_type": "code",
   "execution_count": null,
   "metadata": {
    "collapsed": false,
    "scrolled": false
   },
   "outputs": [
    {
     "name": "stderr",
     "output_type": "stream",
     "text": [
      "Using gpu device 0: GRID K520 (CNMeM is disabled, cuDNN Version is too old. Update to v5, was 3007.)\n",
      "/home/ubuntu/miniconda2/envs/theano/lib/python2.7/site-packages/theano/tensor/signal/downsample.py:6: UserWarning: downsample module has been moved to the theano.tensor.signal.pool module.\n",
      "  \"downsample module has been moved to the theano.tensor.signal.pool module.\")\n"
     ]
    }
   ],
   "source": [
    "from train import test_renet"
   ]
  },
  {
   "cell_type": "code",
   "execution_count": null,
   "metadata": {
    "collapsed": false
   },
   "outputs": [
    {
     "name": "stdout",
     "output_type": "stream",
     "text": [
      "hidden_unit: 1800\n",
      "verbose: True\n",
      "batch_size: 200\n",
      "hidden_num: 1\n",
      "n_epochs: 2000\n",
      "c: 3\n",
      "h: 32\n",
      "renet_d: 312\n",
      "ds_rate: 5\n",
      "lr: 0.04\n",
      "w: 32\n",
      "patch_size: 2\n",
      "... building the model\n",
      "output done\n",
      "output done\n",
      "output done\n",
      "output done\n",
      "cost done\n",
      "test model done\n",
      "test valid model done\n",
      "update done\n",
      "train model done\n",
      "... training\n",
      "training @ iter =  0\n",
      "training @ iter =  100\n",
      "epoch 1, minibatch 200/200, validation error 53.900000 %\n",
      "     epoch 1, minibatch 200/200, test error of best model 56.200000 %\n",
      "training @ iter =  200\n",
      "training @ iter =  300\n",
      "epoch 2, minibatch 200/200, validation error 51.000000 %\n",
      "     epoch 2, minibatch 200/200, test error of best model 52.840000 %\n",
      "training @ iter =  400\n",
      "training @ iter =  500\n",
      "epoch 3, minibatch 200/200, validation error 49.000000 %\n",
      "     epoch 3, minibatch 200/200, test error of best model 50.750000 %\n",
      "training @ iter =  600\n",
      "training @ iter =  700\n",
      "epoch 4, minibatch 200/200, validation error 47.800000 %\n",
      "     epoch 4, minibatch 200/200, test error of best model 48.960000 %\n",
      "training @ iter =  800\n",
      "training @ iter =  900\n",
      "epoch 5, minibatch 200/200, validation error 46.200000 %\n",
      "     epoch 5, minibatch 200/200, test error of best model 47.620000 %\n",
      "training @ iter =  1000\n",
      "training @ iter =  1100\n",
      "epoch 6, minibatch 200/200, validation error 45.300000 %\n",
      "     epoch 6, minibatch 200/200, test error of best model 46.160000 %\n",
      "training @ iter =  1200\n",
      "training @ iter =  1300\n",
      "epoch 7, minibatch 200/200, validation error 44.200000 %\n",
      "     epoch 7, minibatch 200/200, test error of best model 45.390000 %\n",
      "training @ iter =  1400\n",
      "training @ iter =  1500\n",
      "epoch 8, minibatch 200/200, validation error 43.500000 %\n",
      "     epoch 8, minibatch 200/200, test error of best model 44.820000 %\n",
      "training @ iter =  1600\n",
      "training @ iter =  1700\n",
      "epoch 9, minibatch 200/200, validation error 41.800000 %\n",
      "     epoch 9, minibatch 200/200, test error of best model 44.050000 %\n",
      "training @ iter =  1800\n",
      "training @ iter =  1900\n",
      "epoch 10, minibatch 200/200, validation error 41.000000 %\n",
      "     epoch 10, minibatch 200/200, test error of best model 43.370000 %\n",
      "training @ iter =  2000\n",
      "training @ iter =  2100\n",
      "epoch 11, minibatch 200/200, validation error 39.700000 %\n",
      "     epoch 11, minibatch 200/200, test error of best model 42.510000 %\n",
      "training @ iter =  2200\n",
      "training @ iter =  2300\n",
      "epoch 12, minibatch 200/200, validation error 39.100000 %\n",
      "     epoch 12, minibatch 200/200, test error of best model 41.680000 %"
     ]
    }
   ],
   "source": [
    "param = {\n",
    "        'lr': 0.04,\n",
    "        'verbose': True,\n",
    "        'n_epochs':2000,\n",
    "        'batch_size':200,\n",
    "        'ds_rate':5,\n",
    "        'renet_d':312,\n",
    "        'w':32,\n",
    "        'h':32,\n",
    "        'c':3,\n",
    "        'patch_size':2,\n",
    "        'hidden_num':1,\n",
    "        'hidden_unit':1800\n",
    "    }\n",
    "test_renet(**param)"
   ]
  },
  {
   "cell_type": "code",
   "execution_count": null,
   "metadata": {
    "collapsed": true
   },
   "outputs": [],
   "source": []
  }
 ],
 "metadata": {
  "kernelspec": {
   "display_name": "Python 2",
   "language": "python",
   "name": "python2"
  },
  "language_info": {
   "codemirror_mode": {
    "name": "ipython",
    "version": 2
   },
   "file_extension": ".py",
   "mimetype": "text/x-python",
   "name": "python",
   "nbconvert_exporter": "python",
   "pygments_lexer": "ipython2",
   "version": "2.7.11"
  }
 },
 "nbformat": 4,
 "nbformat_minor": 0
}
