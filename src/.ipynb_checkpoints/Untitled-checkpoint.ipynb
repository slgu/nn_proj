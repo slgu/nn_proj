{
 "cells": [
  {
   "cell_type": "code",
   "execution_count": 3,
   "metadata": {
    "collapsed": false
   },
   "outputs": [],
   "source": [
    "from train import *"
   ]
  },
  {
   "cell_type": "code",
   "execution_count": null,
   "metadata": {
    "collapsed": false
   },
   "outputs": [
    {
     "name": "stdout",
     "output_type": "stream",
     "text": [
      "hidden_unit: 500\n",
      "verbose: True\n",
      "batch_size: 200\n",
      "hidden_num: 1\n",
      "n_epochs: 200\n",
      "c: 3\n",
      "h: 32\n",
      "renet_d: 80\n",
      "ds_rate: 5\n",
      "lr: 0.1\n",
      "w: 32\n",
      "patch_size: 4\n",
      "... building the model\n",
      "output done\n",
      "output done\n",
      "output done\n",
      "output done\n",
      "cost done\n",
      "test model done\n",
      "test valid model done\n",
      "update done\n",
      "train model done\n",
      "... training\n",
      "training @ iter =  0\n",
      "training @ iter =  100\n",
      "epoch 1, minibatch 200/200, validation error 58.300000 %\n",
      "     epoch 1, minibatch 200/200, test error of best model 61.740000 %\n",
      "training @ iter =  200\n",
      "training @ iter =  300\n",
      "epoch 2, minibatch 200/200, validation error 53.500000 %\n",
      "     epoch 2, minibatch 200/200, test error of best model 57.170000 %\n",
      "training @ iter =  400\n",
      "training @ iter =  500\n"
     ]
    }
   ],
   "source": [
    "test_renet(lr=0.1, renet_d=80, hidden_unit=500)"
   ]
  },
  {
   "cell_type": "code",
   "execution_count": null,
   "metadata": {
    "collapsed": true
   },
   "outputs": [],
   "source": []
  }
 ],
 "metadata": {
  "kernelspec": {
   "display_name": "Python 2",
   "language": "python",
   "name": "python2"
  },
  "language_info": {
   "codemirror_mode": {
    "name": "ipython",
    "version": 2
   },
   "file_extension": ".py",
   "mimetype": "text/x-python",
   "name": "python",
   "nbconvert_exporter": "python",
   "pygments_lexer": "ipython2",
   "version": "2.7.10"
  }
 },
 "nbformat": 4,
 "nbformat_minor": 0
}
