{
 "cells": [
  {
   "cell_type": "code",
   "execution_count": 1,
   "metadata": {
    "collapsed": false,
    "scrolled": false
   },
   "outputs": [
    {
     "name": "stderr",
     "output_type": "stream",
     "text": [
      "Using gpu device 0: GRID K520 (CNMeM is disabled, cuDNN Version is too old. Update to v5, was 3007.)\n",
      "/home/ubuntu/miniconda2/envs/theano/lib/python2.7/site-packages/theano/tensor/signal/downsample.py:6: UserWarning: downsample module has been moved to the theano.tensor.signal.pool module.\n",
      "  \"downsample module has been moved to the theano.tensor.signal.pool module.\")\n"
     ]
    }
   ],
   "source": [
    "from train import test_renet"
   ]
  },
  {
   "cell_type": "code",
   "execution_count": 2,
   "metadata": {
    "collapsed": false
   },
   "outputs": [
    {
     "name": "stdout",
     "output_type": "stream",
     "text": [
      "hidden_unit: 1800\n",
      "verbose: True\n",
      "batch_size: 200\n",
      "hidden_num: 1\n",
      "n_epochs: 2000\n",
      "c: 3\n",
      "h: 32\n",
      "renet_d: 312\n",
      "ds_rate: 5\n",
      "lr: 0.04\n",
      "w: 32\n",
      "patch_size: 2\n",
      "... building the model\n",
      "output done\n",
      "output done\n",
      "output done\n",
      "output done\n",
      "cost done\n",
      "test model done\n",
      "test valid model done\n",
      "update done\n",
      "train model done\n",
      "... training\n",
      "training @ iter =  0\n",
      "training @ iter =  100\n",
      "epoch 1, minibatch 200/200, validation error 53.900000 %\n",
      "     epoch 1, minibatch 200/200, test error of best model 56.200000 %\n",
      "training @ iter =  200\n",
      "training @ iter =  300\n",
      "epoch 2, minibatch 200/200, validation error 51.000000 %\n",
      "     epoch 2, minibatch 200/200, test error of best model 52.840000 %\n",
      "training @ iter =  400\n",
      "training @ iter =  500\n",
      "epoch 3, minibatch 200/200, validation error 49.000000 %\n",
      "     epoch 3, minibatch 200/200, test error of best model 50.750000 %\n",
      "training @ iter =  600\n",
      "training @ iter =  700\n",
      "epoch 4, minibatch 200/200, validation error 47.800000 %\n",
      "     epoch 4, minibatch 200/200, test error of best model 48.960000 %\n",
      "training @ iter =  800\n",
      "training @ iter =  900\n",
      "epoch 5, minibatch 200/200, validation error 46.200000 %\n",
      "     epoch 5, minibatch 200/200, test error of best model 47.620000 %\n",
      "training @ iter =  1000\n",
      "training @ iter =  1100\n",
      "epoch 6, minibatch 200/200, validation error 45.300000 %\n",
      "     epoch 6, minibatch 200/200, test error of best model 46.160000 %\n",
      "training @ iter =  1200\n",
      "training @ iter =  1300\n",
      "epoch 7, minibatch 200/200, validation error 44.200000 %\n",
      "     epoch 7, minibatch 200/200, test error of best model 45.390000 %\n",
      "training @ iter =  1400\n",
      "training @ iter =  1500\n",
      "epoch 8, minibatch 200/200, validation error 43.500000 %\n",
      "     epoch 8, minibatch 200/200, test error of best model 44.820000 %\n",
      "training @ iter =  1600\n",
      "training @ iter =  1700\n",
      "epoch 9, minibatch 200/200, validation error 41.800000 %\n",
      "     epoch 9, minibatch 200/200, test error of best model 44.050000 %\n",
      "training @ iter =  1800\n",
      "training @ iter =  1900\n",
      "epoch 10, minibatch 200/200, validation error 41.000000 %\n",
      "     epoch 10, minibatch 200/200, test error of best model 43.370000 %\n",
      "training @ iter =  2000\n",
      "training @ iter =  2100\n",
      "epoch 11, minibatch 200/200, validation error 39.700000 %\n",
      "     epoch 11, minibatch 200/200, test error of best model 42.510000 %\n",
      "training @ iter =  2200\n",
      "training @ iter =  2300\n",
      "epoch 12, minibatch 200/200, validation error 39.100000 %\n",
      "     epoch 12, minibatch 200/200, test error of best model 41.680000 %\n",
      "training @ iter =  2400\n",
      "training @ iter =  2500\n",
      "epoch 13, minibatch 200/200, validation error 40.400000 %\n",
      "training @ iter =  2600\n",
      "training @ iter =  2700\n",
      "epoch 14, minibatch 200/200, validation error 38.600000 %\n",
      "     epoch 14, minibatch 200/200, test error of best model 41.280000 %\n",
      "training @ iter =  2800\n",
      "training @ iter =  2900\n",
      "epoch 15, minibatch 200/200, validation error 37.400000 %\n",
      "     epoch 15, minibatch 200/200, test error of best model 40.150000 %\n",
      "training @ iter =  3000\n",
      "training @ iter =  3100\n",
      "epoch 16, minibatch 200/200, validation error 37.200000 %\n",
      "     epoch 16, minibatch 200/200, test error of best model 39.430000 %\n",
      "training @ iter =  3200\n",
      "training @ iter =  3300\n",
      "epoch 17, minibatch 200/200, validation error 36.700000 %\n",
      "     epoch 17, minibatch 200/200, test error of best model 38.680000 %\n",
      "training @ iter =  3400\n",
      "training @ iter =  3500\n",
      "epoch 18, minibatch 200/200, validation error 36.400000 %\n",
      "     epoch 18, minibatch 200/200, test error of best model 38.250000 %\n",
      "training @ iter =  3600\n",
      "training @ iter =  3700\n",
      "epoch 19, minibatch 200/200, validation error 36.300000 %\n",
      "     epoch 19, minibatch 200/200, test error of best model 38.010000 %\n",
      "training @ iter =  3800\n",
      "training @ iter =  3900\n",
      "epoch 20, minibatch 200/200, validation error 35.900000 %\n",
      "     epoch 20, minibatch 200/200, test error of best model 37.930000 %\n",
      "training @ iter =  4000\n"
     ]
    },
    {
     "ename": "RuntimeError",
     "evalue": "CudaNdarray_ZEROS: allocation failed.\nApply node that caused the error: forall_inplace,gpu,grad_of_scan_fn&grad_of_scan_fn}(TensorConstant{16}, GpuDimShuffle{0,1,2,3}.0, GpuDimShuffle{0,1,2,3}.0, GpuSubtensor{int64:int64:int64}.0, GpuDimShuffle{0,1,2,3}.0, GpuDimShuffle{0,1,2,3}.0, GpuSubtensor{int64:int64:int64}.0, GpuSubtensor{::int64}.0, GpuSubtensor{::int64}.0, GpuAlloc{memset_0=True}.0, GpuAlloc{memset_0=True}.0, GpuAlloc{memset_0=True}.0, GpuAlloc{memset_0=True}.0, GpuAlloc{memset_0=True}.0, GpuAlloc{memset_0=True}.0, GpuAlloc{memset_0=True}.0, GpuAlloc{memset_0=True}.0, GpuAlloc{memset_0=True}.0, GpuAlloc{memset_0=True}.0, GpuAlloc{memset_0=True}.0, GpuAlloc{memset_0=True}.0, GpuAlloc{memset_0=True}.0, GpuAlloc{memset_0=True}.0, GpuAlloc{memset_0=True}.0, GpuAlloc{memset_0=True}.0, GpuAlloc{memset_0=True}.0, GpuAlloc{memset_0=True}.0, TensorConstant{16}, TensorConstant{16}, GpuDimShuffle{x,x,0}.0, GpuDimShuffle{x,x,0}.0, GpuDimShuffle{x,x,0}.0, MakeVector{dtype='int64'}.0, MakeVector{dtype='int64'}.0, MakeVector{dtype='int64'}.0, MakeVector{dtype='int64'}.0, MakeVector{dtype='int64'}.0, MakeVector{dtype='int64'}.0, MakeVector{dtype='int64'}.0, MakeVector{dtype='int64'}.0, MakeVector{dtype='int64'}.0, MakeVector{dtype='int64'}.0, MakeVector{dtype='int64'}.0, MakeVector{dtype='int64'}.0, GpuReshape{2}.0, GpuReshape{2}.0, GpuReshape{2}.0, GpuReshape{2}.0, GpuReshape{2}.0, GpuReshape{2}.0, GpuDimShuffle{1,0}.0, GpuDimShuffle{1,0}.0, GpuDimShuffle{1,0}.0, GpuDimShuffle{1,0}.0, GpuDimShuffle{1,0}.0, GpuDimShuffle{1,0}.0, GpuDimShuffle{x,x,0}.0, GpuDimShuffle{x,x,0}.0, GpuDimShuffle{x,x,0}.0, MakeVector{dtype='int64'}.0, MakeVector{dtype='int64'}.0, MakeVector{dtype='int64'}.0, MakeVector{dtype='int64'}.0, MakeVector{dtype='int64'}.0, MakeVector{dtype='int64'}.0, MakeVector{dtype='int64'}.0, MakeVector{dtype='int64'}.0, MakeVector{dtype='int64'}.0, MakeVector{dtype='int64'}.0, MakeVector{dtype='int64'}.0, MakeVector{dtype='int64'}.0, GpuReshape{2}.0, GpuReshape{2}.0, GpuReshape{2}.0, GpuReshape{2}.0, GpuReshape{2}.0, GpuReshape{2}.0, GpuDimShuffle{1,0}.0, GpuDimShuffle{1,0}.0, GpuDimShuffle{1,0}.0, GpuDimShuffle{1,0}.0, GpuDimShuffle{1,0}.0, GpuDimShuffle{1,0}.0)\nToposort index: 336\nInputs types: [TensorType(int64, scalar), CudaNdarrayType(float32, 4D), CudaNdarrayType(float32, 4D), CudaNdarrayType(float32, 4D), CudaNdarrayType(float32, 4D), CudaNdarrayType(float32, 4D), CudaNdarrayType(float32, 4D), CudaNdarrayType(float32, 4D), CudaNdarrayType(float32, 4D), CudaNdarrayType(float32, 3D), CudaNdarrayType(float32, 3D), CudaNdarrayType(float32, matrix), CudaNdarrayType(float32, 3D), CudaNdarrayType(float32, 3D), CudaNdarrayType(float32, 3D), CudaNdarrayType(float32, matrix), CudaNdarrayType(float32, 3D), CudaNdarrayType(float32, matrix), CudaNdarrayType(float32, 3D), CudaNdarrayType(float32, 3D), CudaNdarrayType(float32, matrix), CudaNdarrayType(float32, 3D), CudaNdarrayType(float32, 3D), CudaNdarrayType(float32, 3D), CudaNdarrayType(float32, matrix), CudaNdarrayType(float32, 3D), CudaNdarrayType(float32, matrix), TensorType(int64, scalar), TensorType(int64, scalar), CudaNdarrayType(float32, (True, True, False)), CudaNdarrayType(float32, (True, True, False)), CudaNdarrayType(float32, (True, True, False)), TensorType(int64, vector), TensorType(int64, vector), TensorType(int64, vector), TensorType(int64, vector), TensorType(int64, vector), TensorType(int64, vector), TensorType(int64, vector), TensorType(int64, vector), TensorType(int64, vector), TensorType(int64, vector), TensorType(int64, vector), TensorType(int64, vector), CudaNdarrayType(float32, matrix), CudaNdarrayType(float32, matrix), CudaNdarrayType(float32, matrix), CudaNdarrayType(float32, matrix), CudaNdarrayType(float32, matrix), CudaNdarrayType(float32, matrix), CudaNdarrayType(float32, matrix), CudaNdarrayType(float32, matrix), CudaNdarrayType(float32, matrix), CudaNdarrayType(float32, matrix), CudaNdarrayType(float32, matrix), CudaNdarrayType(float32, matrix), CudaNdarrayType(float32, (True, True, False)), CudaNdarrayType(float32, (True, True, False)), CudaNdarrayType(float32, (True, True, False)), TensorType(int64, vector), TensorType(int64, vector), TensorType(int64, vector), TensorType(int64, vector), TensorType(int64, vector), TensorType(int64, vector), TensorType(int64, vector), TensorType(int64, vector), TensorType(int64, vector), TensorType(int64, vector), TensorType(int64, vector), TensorType(int64, vector), CudaNdarrayType(float32, matrix), CudaNdarrayType(float32, matrix), CudaNdarrayType(float32, matrix), CudaNdarrayType(float32, matrix), CudaNdarrayType(float32, matrix), CudaNdarrayType(float32, matrix), CudaNdarrayType(float32, matrix), CudaNdarrayType(float32, matrix), CudaNdarrayType(float32, matrix), CudaNdarrayType(float32, matrix), CudaNdarrayType(float32, matrix), CudaNdarrayType(float32, matrix)]\nInputs shapes: [(), (16, 200, 16, 624), (16, 200, 16, 312), (16, 200, 16, 312), (16, 200, 16, 624), (16, 200, 16, 312), (16, 200, 16, 312), (17, 200, 16, 312), (17, 200, 16, 312), (2, 624, 312), (2, 312, 312), (2, 312), (2, 624, 312), (2, 624, 312), (2, 312, 312), (2, 312), (2, 312, 312), (2, 312), (2, 624, 312), (2, 312, 312), (2, 312), (2, 624, 312), (2, 624, 312), (2, 312, 312), (2, 312), (2, 312, 312), (2, 312), (), (), (1, 1, 312), (1, 1, 312), (1, 1, 312), (2,), (2,), (2,), (2,), (2,), (2,), (1,), (1,), (1,), (1,), (1,), (1,), (624, 312), (312, 312), (312, 312), (624, 312), (312, 312), (624, 312), (312, 624), (312, 312), (312, 312), (312, 624), (312, 312), (312, 624), (1, 1, 312), (1, 1, 312), (1, 1, 312), (2,), (2,), (2,), (2,), (2,), (2,), (1,), (1,), (1,), (1,), (1,), (1,), (624, 312), (312, 312), (312, 312), (624, 312), (312, 312), (624, 312), (312, 624), (312, 312), (312, 312), (312, 624), (312, 312), (312, 624)]\nInputs strides: [(), (-1996800, 9984, 624, 1), (-998400, 4992, 312, 1), (-998400, 4992, 312, 1), (1996800, 9984, 624, 1), (-998400, 4992, 312, 1), (-998400, 4992, 312, 1), (-998400, 4992, 312, 1), (-998400, 4992, 312, 1), (194688, 312, 1), (97344, 312, 1), (312, 1), (194688, 312, 1), (194688, 312, 1), (97344, 312, 1), (312, 1), (97344, 312, 1), (312, 1), (194688, 312, 1), (97344, 312, 1), (312, 1), (194688, 312, 1), (194688, 312, 1), (97344, 312, 1), (312, 1), (97344, 312, 1), (312, 1), (), (), (0, 0, 1), (0, 0, 1), (0, 0, 1), (8,), (8,), (8,), (8,), (8,), (8,), (8,), (8,), (8,), (8,), (8,), (8,), (312, 1), (312, 1), (312, 1), (312, 1), (312, 1), (312, 1), (1, 312), (1, 312), (1, 312), (1, 312), (1, 312), (1, 312), (0, 0, 1), (0, 0, 1), (0, 0, 1), (8,), (8,), (8,), (8,), (8,), (8,), (8,), (8,), (8,), (8,), (8,), (8,), (312, 1), (312, 1), (312, 1), (312, 1), (312, 1), (312, 1), (1, 312), (1, 312), (1, 312), (1, 312), (1, 312), (1, 312)]\nInputs values: [array(16), 'not shown', 'not shown', 'not shown', 'not shown', 'not shown', 'not shown', 'not shown', 'not shown', 'not shown', 'not shown', 'not shown', 'not shown', 'not shown', 'not shown', 'not shown', 'not shown', 'not shown', 'not shown', 'not shown', 'not shown', 'not shown', 'not shown', 'not shown', 'not shown', 'not shown', 'not shown', array(16), array(16), 'not shown', 'not shown', 'not shown', array([624, 312]), array([312, 312]), array([312, 312]), array([624, 312]), array([312, 312]), array([624, 312]), array([312]), array([312]), array([312]), array([312]), array([312]), array([312]), 'not shown', 'not shown', 'not shown', 'not shown', 'not shown', 'not shown', 'not shown', 'not shown', 'not shown', 'not shown', 'not shown', 'not shown', 'not shown', 'not shown', 'not shown', array([624, 312]), array([312, 312]), array([312, 312]), array([624, 312]), array([312, 312]), array([624, 312]), array([312]), array([312]), array([312]), array([312]), array([312]), array([312]), 'not shown', 'not shown', 'not shown', 'not shown', 'not shown', 'not shown', 'not shown', 'not shown', 'not shown', 'not shown', 'not shown', 'not shown']\nOutputs clients: [[GpuSubtensor{int64:int64:int64}(forall_inplace,gpu,grad_of_scan_fn&grad_of_scan_fn}.0, Constant{16}, Constant{15}, Constant{-1})], [GpuSubtensor{int64:int64:int64}(forall_inplace,gpu,grad_of_scan_fn&grad_of_scan_fn}.1, Constant{16}, Constant{15}, Constant{-1})], [GpuSubtensor{int64}(forall_inplace,gpu,grad_of_scan_fn&grad_of_scan_fn}.2, Constant{1})], [GpuSubtensor{int64}(forall_inplace,gpu,grad_of_scan_fn&grad_of_scan_fn}.3, Constant{1})], [GpuSubtensor{int64}(forall_inplace,gpu,grad_of_scan_fn&grad_of_scan_fn}.4, Constant{1})], [GpuSubtensor{int64}(forall_inplace,gpu,grad_of_scan_fn&grad_of_scan_fn}.5, Constant{1})], [GpuSubtensor{int64}(forall_inplace,gpu,grad_of_scan_fn&grad_of_scan_fn}.6, Constant{1})], [GpuSubtensor{int64}(forall_inplace,gpu,grad_of_scan_fn&grad_of_scan_fn}.7, Constant{1})], [GpuSubtensor{int64}(forall_inplace,gpu,grad_of_scan_fn&grad_of_scan_fn}.8, Constant{1})], [GpuSubtensor{int64}(forall_inplace,gpu,grad_of_scan_fn&grad_of_scan_fn}.9, Constant{1})], [GpuSubtensor{int64}(forall_inplace,gpu,grad_of_scan_fn&grad_of_scan_fn}.10, Constant{1})], [GpuSubtensor{int64}(forall_inplace,gpu,grad_of_scan_fn&grad_of_scan_fn}.11, Constant{1})], [GpuSubtensor{int64}(forall_inplace,gpu,grad_of_scan_fn&grad_of_scan_fn}.12, Constant{1})], [GpuSubtensor{int64}(forall_inplace,gpu,grad_of_scan_fn&grad_of_scan_fn}.13, Constant{1})], [GpuSubtensor{int64}(forall_inplace,gpu,grad_of_scan_fn&grad_of_scan_fn}.14, Constant{1})], [GpuSubtensor{int64}(forall_inplace,gpu,grad_of_scan_fn&grad_of_scan_fn}.15, Constant{1})], [GpuSubtensor{int64}(forall_inplace,gpu,grad_of_scan_fn&grad_of_scan_fn}.16, Constant{1})], [GpuSubtensor{int64}(forall_inplace,gpu,grad_of_scan_fn&grad_of_scan_fn}.17, Constant{1})], [GpuSubtensor{int64}(forall_inplace,gpu,grad_of_scan_fn&grad_of_scan_fn}.18, Constant{1})], [GpuSubtensor{int64}(forall_inplace,gpu,grad_of_scan_fn&grad_of_scan_fn}.19, Constant{1})], [GpuSubtensor{::int64}(forall_inplace,gpu,grad_of_scan_fn&grad_of_scan_fn}.20, Constant{-1})], [GpuSubtensor{::int64}(forall_inplace,gpu,grad_of_scan_fn&grad_of_scan_fn}.21, Constant{-1})]]\n\nHINT: Re-running with most Theano optimization disabled could give you a back-trace of when this node was created. This can be done with by setting the Theano flag 'optimizer=fast_compile'. If that does not work, Theano optimizations can be disabled with 'optimizer=None'.\nHINT: Use the Theano flag 'exception_verbosity=high' for a debugprint and storage map footprint of this apply node.",
     "output_type": "error",
     "traceback": [
      "\u001b[1;31m---------------------------------------------------------------------------\u001b[0m",
      "\u001b[1;31mRuntimeError\u001b[0m                              Traceback (most recent call last)",
      "\u001b[1;32m<ipython-input-2-43ff3816022b>\u001b[0m in \u001b[0;36m<module>\u001b[1;34m()\u001b[0m\n\u001b[0;32m     13\u001b[0m         \u001b[1;34m'hidden_unit'\u001b[0m\u001b[1;33m:\u001b[0m\u001b[1;36m1800\u001b[0m\u001b[1;33m\u001b[0m\u001b[0m\n\u001b[0;32m     14\u001b[0m     }\n\u001b[1;32m---> 15\u001b[1;33m \u001b[0mtest_renet\u001b[0m\u001b[1;33m(\u001b[0m\u001b[1;33m**\u001b[0m\u001b[0mparam\u001b[0m\u001b[1;33m)\u001b[0m\u001b[1;33m\u001b[0m\u001b[0m\n\u001b[0m",
      "\u001b[1;32m/home/ubuntu/extern/nn_proj/src/train.pyc\u001b[0m in \u001b[0;36mtest_renet\u001b[1;34m(**kwargs)\u001b[0m\n\u001b[0;32m    154\u001b[0m \u001b[1;33m\u001b[0m\u001b[0m\n\u001b[0;32m    155\u001b[0m     train_nn(train_model, validate_model, test_model,\n\u001b[1;32m--> 156\u001b[1;33m         n_train_batches, n_valid_batches, n_test_batches, param['n_epochs'], param['verbose'])\n\u001b[0m\u001b[0;32m    157\u001b[0m \u001b[1;33m\u001b[0m\u001b[0m\n\u001b[0;32m    158\u001b[0m \u001b[1;33m\u001b[0m\u001b[0m\n",
      "\u001b[1;32m/home/ubuntu/extern/nn_proj/src/nn.pyc\u001b[0m in \u001b[0;36mtrain_nn\u001b[1;34m(train_model, validate_model, test_model, n_train_batches, n_valid_batches, n_test_batches, n_epochs, verbose)\u001b[0m\n\u001b[0;32m    500\u001b[0m             \u001b[1;32mif\u001b[0m \u001b[1;33m(\u001b[0m\u001b[0miter\u001b[0m \u001b[1;33m%\u001b[0m \u001b[1;36m100\u001b[0m \u001b[1;33m==\u001b[0m \u001b[1;36m0\u001b[0m\u001b[1;33m)\u001b[0m \u001b[1;32mand\u001b[0m \u001b[0mverbose\u001b[0m\u001b[1;33m:\u001b[0m\u001b[1;33m\u001b[0m\u001b[0m\n\u001b[0;32m    501\u001b[0m                 \u001b[1;32mprint\u001b[0m\u001b[1;33m(\u001b[0m\u001b[1;34m'training @ iter = '\u001b[0m\u001b[1;33m,\u001b[0m \u001b[0miter\u001b[0m\u001b[1;33m)\u001b[0m\u001b[1;33m\u001b[0m\u001b[0m\n\u001b[1;32m--> 502\u001b[1;33m             \u001b[0mcost_ij\u001b[0m \u001b[1;33m=\u001b[0m \u001b[0mtrain_model\u001b[0m\u001b[1;33m(\u001b[0m\u001b[0mminibatch_index\u001b[0m\u001b[1;33m)\u001b[0m\u001b[1;33m\u001b[0m\u001b[0m\n\u001b[0m\u001b[0;32m    503\u001b[0m \u001b[1;33m\u001b[0m\u001b[0m\n\u001b[0;32m    504\u001b[0m             \u001b[1;32mif\u001b[0m \u001b[1;33m(\u001b[0m\u001b[0miter\u001b[0m \u001b[1;33m+\u001b[0m \u001b[1;36m1\u001b[0m\u001b[1;33m)\u001b[0m \u001b[1;33m%\u001b[0m \u001b[0mvalidation_frequency\u001b[0m \u001b[1;33m==\u001b[0m \u001b[1;36m0\u001b[0m\u001b[1;33m:\u001b[0m\u001b[1;33m\u001b[0m\u001b[0m\n",
      "\u001b[1;32m/home/ubuntu/miniconda2/envs/theano/lib/python2.7/site-packages/theano/compile/function_module.pyc\u001b[0m in \u001b[0;36m__call__\u001b[1;34m(self, *args, **kwargs)\u001b[0m\n\u001b[0;32m    869\u001b[0m                     \u001b[0mnode\u001b[0m\u001b[1;33m=\u001b[0m\u001b[0mself\u001b[0m\u001b[1;33m.\u001b[0m\u001b[0mfn\u001b[0m\u001b[1;33m.\u001b[0m\u001b[0mnodes\u001b[0m\u001b[1;33m[\u001b[0m\u001b[0mself\u001b[0m\u001b[1;33m.\u001b[0m\u001b[0mfn\u001b[0m\u001b[1;33m.\u001b[0m\u001b[0mposition_of_error\u001b[0m\u001b[1;33m]\u001b[0m\u001b[1;33m,\u001b[0m\u001b[1;33m\u001b[0m\u001b[0m\n\u001b[0;32m    870\u001b[0m                     \u001b[0mthunk\u001b[0m\u001b[1;33m=\u001b[0m\u001b[0mthunk\u001b[0m\u001b[1;33m,\u001b[0m\u001b[1;33m\u001b[0m\u001b[0m\n\u001b[1;32m--> 871\u001b[1;33m                     storage_map=getattr(self.fn, 'storage_map', None))\n\u001b[0m\u001b[0;32m    872\u001b[0m             \u001b[1;32melse\u001b[0m\u001b[1;33m:\u001b[0m\u001b[1;33m\u001b[0m\u001b[0m\n\u001b[0;32m    873\u001b[0m                 \u001b[1;31m# old-style linkers raise their own exceptions\u001b[0m\u001b[1;33m\u001b[0m\u001b[1;33m\u001b[0m\u001b[0m\n",
      "\u001b[1;32m/home/ubuntu/miniconda2/envs/theano/lib/python2.7/site-packages/theano/gof/link.pyc\u001b[0m in \u001b[0;36mraise_with_op\u001b[1;34m(node, thunk, exc_info, storage_map)\u001b[0m\n\u001b[0;32m    312\u001b[0m         \u001b[1;31m# extra long error message in that case.\u001b[0m\u001b[1;33m\u001b[0m\u001b[1;33m\u001b[0m\u001b[0m\n\u001b[0;32m    313\u001b[0m         \u001b[1;32mpass\u001b[0m\u001b[1;33m\u001b[0m\u001b[0m\n\u001b[1;32m--> 314\u001b[1;33m     \u001b[0mreraise\u001b[0m\u001b[1;33m(\u001b[0m\u001b[0mexc_type\u001b[0m\u001b[1;33m,\u001b[0m \u001b[0mexc_value\u001b[0m\u001b[1;33m,\u001b[0m \u001b[0mexc_trace\u001b[0m\u001b[1;33m)\u001b[0m\u001b[1;33m\u001b[0m\u001b[0m\n\u001b[0m\u001b[0;32m    315\u001b[0m \u001b[1;33m\u001b[0m\u001b[0m\n\u001b[0;32m    316\u001b[0m \u001b[1;33m\u001b[0m\u001b[0m\n",
      "\u001b[1;32m/home/ubuntu/miniconda2/envs/theano/lib/python2.7/site-packages/theano/compile/function_module.pyc\u001b[0m in \u001b[0;36m__call__\u001b[1;34m(self, *args, **kwargs)\u001b[0m\n\u001b[0;32m    857\u001b[0m         \u001b[0mt0_fn\u001b[0m \u001b[1;33m=\u001b[0m \u001b[0mtime\u001b[0m\u001b[1;33m.\u001b[0m\u001b[0mtime\u001b[0m\u001b[1;33m(\u001b[0m\u001b[1;33m)\u001b[0m\u001b[1;33m\u001b[0m\u001b[0m\n\u001b[0;32m    858\u001b[0m         \u001b[1;32mtry\u001b[0m\u001b[1;33m:\u001b[0m\u001b[1;33m\u001b[0m\u001b[0m\n\u001b[1;32m--> 859\u001b[1;33m             \u001b[0moutputs\u001b[0m \u001b[1;33m=\u001b[0m \u001b[0mself\u001b[0m\u001b[1;33m.\u001b[0m\u001b[0mfn\u001b[0m\u001b[1;33m(\u001b[0m\u001b[1;33m)\u001b[0m\u001b[1;33m\u001b[0m\u001b[0m\n\u001b[0m\u001b[0;32m    860\u001b[0m         \u001b[1;32mexcept\u001b[0m \u001b[0mException\u001b[0m\u001b[1;33m:\u001b[0m\u001b[1;33m\u001b[0m\u001b[0m\n\u001b[0;32m    861\u001b[0m             \u001b[1;32mif\u001b[0m \u001b[0mhasattr\u001b[0m\u001b[1;33m(\u001b[0m\u001b[0mself\u001b[0m\u001b[1;33m.\u001b[0m\u001b[0mfn\u001b[0m\u001b[1;33m,\u001b[0m \u001b[1;34m'position_of_error'\u001b[0m\u001b[1;33m)\u001b[0m\u001b[1;33m:\u001b[0m\u001b[1;33m\u001b[0m\u001b[0m\n",
      "\u001b[1;32m/home/ubuntu/miniconda2/envs/theano/lib/python2.7/site-packages/theano/scan_module/scan_op.pyc\u001b[0m in \u001b[0;36mrval\u001b[1;34m(p, i, o, n, allow_gc)\u001b[0m\n\u001b[0;32m    949\u001b[0m         def rval(p=p, i=node_input_storage, o=node_output_storage, n=node,\n\u001b[0;32m    950\u001b[0m                  allow_gc=allow_gc):\n\u001b[1;32m--> 951\u001b[1;33m             \u001b[0mr\u001b[0m \u001b[1;33m=\u001b[0m \u001b[0mp\u001b[0m\u001b[1;33m(\u001b[0m\u001b[0mn\u001b[0m\u001b[1;33m,\u001b[0m \u001b[1;33m[\u001b[0m\u001b[0mx\u001b[0m\u001b[1;33m[\u001b[0m\u001b[1;36m0\u001b[0m\u001b[1;33m]\u001b[0m \u001b[1;32mfor\u001b[0m \u001b[0mx\u001b[0m \u001b[1;32min\u001b[0m \u001b[0mi\u001b[0m\u001b[1;33m]\u001b[0m\u001b[1;33m,\u001b[0m \u001b[0mo\u001b[0m\u001b[1;33m)\u001b[0m\u001b[1;33m\u001b[0m\u001b[0m\n\u001b[0m\u001b[0;32m    952\u001b[0m             \u001b[1;32mfor\u001b[0m \u001b[0mo\u001b[0m \u001b[1;32min\u001b[0m \u001b[0mnode\u001b[0m\u001b[1;33m.\u001b[0m\u001b[0moutputs\u001b[0m\u001b[1;33m:\u001b[0m\u001b[1;33m\u001b[0m\u001b[0m\n\u001b[0;32m    953\u001b[0m                 \u001b[0mcompute_map\u001b[0m\u001b[1;33m[\u001b[0m\u001b[0mo\u001b[0m\u001b[1;33m]\u001b[0m\u001b[1;33m[\u001b[0m\u001b[1;36m0\u001b[0m\u001b[1;33m]\u001b[0m \u001b[1;33m=\u001b[0m \u001b[0mTrue\u001b[0m\u001b[1;33m\u001b[0m\u001b[0m\n",
      "\u001b[1;32m/home/ubuntu/miniconda2/envs/theano/lib/python2.7/site-packages/theano/scan_module/scan_op.pyc\u001b[0m in \u001b[0;36m<lambda>\u001b[1;34m(node, args, outs)\u001b[0m\n\u001b[0;32m    938\u001b[0m                         \u001b[0margs\u001b[0m\u001b[1;33m,\u001b[0m\u001b[1;33m\u001b[0m\u001b[0m\n\u001b[0;32m    939\u001b[0m                         \u001b[0mouts\u001b[0m\u001b[1;33m,\u001b[0m\u001b[1;33m\u001b[0m\u001b[0m\n\u001b[1;32m--> 940\u001b[1;33m                         self, node)\n\u001b[0m\u001b[0;32m    941\u001b[0m         \u001b[1;32mexcept\u001b[0m \u001b[1;33m(\u001b[0m\u001b[0mImportError\u001b[0m\u001b[1;33m,\u001b[0m \u001b[0mtheano\u001b[0m\u001b[1;33m.\u001b[0m\u001b[0mgof\u001b[0m\u001b[1;33m.\u001b[0m\u001b[0mcmodule\u001b[0m\u001b[1;33m.\u001b[0m\u001b[0mMissingGXX\u001b[0m\u001b[1;33m)\u001b[0m\u001b[1;33m:\u001b[0m\u001b[1;33m\u001b[0m\u001b[0m\n\u001b[0;32m    942\u001b[0m             \u001b[0mp\u001b[0m \u001b[1;33m=\u001b[0m \u001b[0mself\u001b[0m\u001b[1;33m.\u001b[0m\u001b[0mexecute\u001b[0m\u001b[1;33m\u001b[0m\u001b[0m\n",
      "\u001b[1;32mtheano/scan_module/scan_perform.pyx\u001b[0m in \u001b[0;36mtheano.scan_module.scan_perform.perform (/home/ubuntu/.theano/compiledir_Linux-3.13--generic-x86_64-with-debian-jessie-sid-x86_64-2.7.11-64/scan_perform/mod.cpp:5853)\u001b[1;34m()\u001b[0m\n",
      "\u001b[1;31mRuntimeError\u001b[0m: CudaNdarray_ZEROS: allocation failed.\nApply node that caused the error: forall_inplace,gpu,grad_of_scan_fn&grad_of_scan_fn}(TensorConstant{16}, GpuDimShuffle{0,1,2,3}.0, GpuDimShuffle{0,1,2,3}.0, GpuSubtensor{int64:int64:int64}.0, GpuDimShuffle{0,1,2,3}.0, GpuDimShuffle{0,1,2,3}.0, GpuSubtensor{int64:int64:int64}.0, GpuSubtensor{::int64}.0, GpuSubtensor{::int64}.0, GpuAlloc{memset_0=True}.0, GpuAlloc{memset_0=True}.0, GpuAlloc{memset_0=True}.0, GpuAlloc{memset_0=True}.0, GpuAlloc{memset_0=True}.0, GpuAlloc{memset_0=True}.0, GpuAlloc{memset_0=True}.0, GpuAlloc{memset_0=True}.0, GpuAlloc{memset_0=True}.0, GpuAlloc{memset_0=True}.0, GpuAlloc{memset_0=True}.0, GpuAlloc{memset_0=True}.0, GpuAlloc{memset_0=True}.0, GpuAlloc{memset_0=True}.0, GpuAlloc{memset_0=True}.0, GpuAlloc{memset_0=True}.0, GpuAlloc{memset_0=True}.0, GpuAlloc{memset_0=True}.0, TensorConstant{16}, TensorConstant{16}, GpuDimShuffle{x,x,0}.0, GpuDimShuffle{x,x,0}.0, GpuDimShuffle{x,x,0}.0, MakeVector{dtype='int64'}.0, MakeVector{dtype='int64'}.0, MakeVector{dtype='int64'}.0, MakeVector{dtype='int64'}.0, MakeVector{dtype='int64'}.0, MakeVector{dtype='int64'}.0, MakeVector{dtype='int64'}.0, MakeVector{dtype='int64'}.0, MakeVector{dtype='int64'}.0, MakeVector{dtype='int64'}.0, MakeVector{dtype='int64'}.0, MakeVector{dtype='int64'}.0, GpuReshape{2}.0, GpuReshape{2}.0, GpuReshape{2}.0, GpuReshape{2}.0, GpuReshape{2}.0, GpuReshape{2}.0, GpuDimShuffle{1,0}.0, GpuDimShuffle{1,0}.0, GpuDimShuffle{1,0}.0, GpuDimShuffle{1,0}.0, GpuDimShuffle{1,0}.0, GpuDimShuffle{1,0}.0, GpuDimShuffle{x,x,0}.0, GpuDimShuffle{x,x,0}.0, GpuDimShuffle{x,x,0}.0, MakeVector{dtype='int64'}.0, MakeVector{dtype='int64'}.0, MakeVector{dtype='int64'}.0, MakeVector{dtype='int64'}.0, MakeVector{dtype='int64'}.0, MakeVector{dtype='int64'}.0, MakeVector{dtype='int64'}.0, MakeVector{dtype='int64'}.0, MakeVector{dtype='int64'}.0, MakeVector{dtype='int64'}.0, MakeVector{dtype='int64'}.0, MakeVector{dtype='int64'}.0, GpuReshape{2}.0, GpuReshape{2}.0, GpuReshape{2}.0, GpuReshape{2}.0, GpuReshape{2}.0, GpuReshape{2}.0, GpuDimShuffle{1,0}.0, GpuDimShuffle{1,0}.0, GpuDimShuffle{1,0}.0, GpuDimShuffle{1,0}.0, GpuDimShuffle{1,0}.0, GpuDimShuffle{1,0}.0)\nToposort index: 336\nInputs types: [TensorType(int64, scalar), CudaNdarrayType(float32, 4D), CudaNdarrayType(float32, 4D), CudaNdarrayType(float32, 4D), CudaNdarrayType(float32, 4D), CudaNdarrayType(float32, 4D), CudaNdarrayType(float32, 4D), CudaNdarrayType(float32, 4D), CudaNdarrayType(float32, 4D), CudaNdarrayType(float32, 3D), CudaNdarrayType(float32, 3D), CudaNdarrayType(float32, matrix), CudaNdarrayType(float32, 3D), CudaNdarrayType(float32, 3D), CudaNdarrayType(float32, 3D), CudaNdarrayType(float32, matrix), CudaNdarrayType(float32, 3D), CudaNdarrayType(float32, matrix), CudaNdarrayType(float32, 3D), CudaNdarrayType(float32, 3D), CudaNdarrayType(float32, matrix), CudaNdarrayType(float32, 3D), CudaNdarrayType(float32, 3D), CudaNdarrayType(float32, 3D), CudaNdarrayType(float32, matrix), CudaNdarrayType(float32, 3D), CudaNdarrayType(float32, matrix), TensorType(int64, scalar), TensorType(int64, scalar), CudaNdarrayType(float32, (True, True, False)), CudaNdarrayType(float32, (True, True, False)), CudaNdarrayType(float32, (True, True, False)), TensorType(int64, vector), TensorType(int64, vector), TensorType(int64, vector), TensorType(int64, vector), TensorType(int64, vector), TensorType(int64, vector), TensorType(int64, vector), TensorType(int64, vector), TensorType(int64, vector), TensorType(int64, vector), TensorType(int64, vector), TensorType(int64, vector), CudaNdarrayType(float32, matrix), CudaNdarrayType(float32, matrix), CudaNdarrayType(float32, matrix), CudaNdarrayType(float32, matrix), CudaNdarrayType(float32, matrix), CudaNdarrayType(float32, matrix), CudaNdarrayType(float32, matrix), CudaNdarrayType(float32, matrix), CudaNdarrayType(float32, matrix), CudaNdarrayType(float32, matrix), CudaNdarrayType(float32, matrix), CudaNdarrayType(float32, matrix), CudaNdarrayType(float32, (True, True, False)), CudaNdarrayType(float32, (True, True, False)), CudaNdarrayType(float32, (True, True, False)), TensorType(int64, vector), TensorType(int64, vector), TensorType(int64, vector), TensorType(int64, vector), TensorType(int64, vector), TensorType(int64, vector), TensorType(int64, vector), TensorType(int64, vector), TensorType(int64, vector), TensorType(int64, vector), TensorType(int64, vector), TensorType(int64, vector), CudaNdarrayType(float32, matrix), CudaNdarrayType(float32, matrix), CudaNdarrayType(float32, matrix), CudaNdarrayType(float32, matrix), CudaNdarrayType(float32, matrix), CudaNdarrayType(float32, matrix), CudaNdarrayType(float32, matrix), CudaNdarrayType(float32, matrix), CudaNdarrayType(float32, matrix), CudaNdarrayType(float32, matrix), CudaNdarrayType(float32, matrix), CudaNdarrayType(float32, matrix)]\nInputs shapes: [(), (16, 200, 16, 624), (16, 200, 16, 312), (16, 200, 16, 312), (16, 200, 16, 624), (16, 200, 16, 312), (16, 200, 16, 312), (17, 200, 16, 312), (17, 200, 16, 312), (2, 624, 312), (2, 312, 312), (2, 312), (2, 624, 312), (2, 624, 312), (2, 312, 312), (2, 312), (2, 312, 312), (2, 312), (2, 624, 312), (2, 312, 312), (2, 312), (2, 624, 312), (2, 624, 312), (2, 312, 312), (2, 312), (2, 312, 312), (2, 312), (), (), (1, 1, 312), (1, 1, 312), (1, 1, 312), (2,), (2,), (2,), (2,), (2,), (2,), (1,), (1,), (1,), (1,), (1,), (1,), (624, 312), (312, 312), (312, 312), (624, 312), (312, 312), (624, 312), (312, 624), (312, 312), (312, 312), (312, 624), (312, 312), (312, 624), (1, 1, 312), (1, 1, 312), (1, 1, 312), (2,), (2,), (2,), (2,), (2,), (2,), (1,), (1,), (1,), (1,), (1,), (1,), (624, 312), (312, 312), (312, 312), (624, 312), (312, 312), (624, 312), (312, 624), (312, 312), (312, 312), (312, 624), (312, 312), (312, 624)]\nInputs strides: [(), (-1996800, 9984, 624, 1), (-998400, 4992, 312, 1), (-998400, 4992, 312, 1), (1996800, 9984, 624, 1), (-998400, 4992, 312, 1), (-998400, 4992, 312, 1), (-998400, 4992, 312, 1), (-998400, 4992, 312, 1), (194688, 312, 1), (97344, 312, 1), (312, 1), (194688, 312, 1), (194688, 312, 1), (97344, 312, 1), (312, 1), (97344, 312, 1), (312, 1), (194688, 312, 1), (97344, 312, 1), (312, 1), (194688, 312, 1), (194688, 312, 1), (97344, 312, 1), (312, 1), (97344, 312, 1), (312, 1), (), (), (0, 0, 1), (0, 0, 1), (0, 0, 1), (8,), (8,), (8,), (8,), (8,), (8,), (8,), (8,), (8,), (8,), (8,), (8,), (312, 1), (312, 1), (312, 1), (312, 1), (312, 1), (312, 1), (1, 312), (1, 312), (1, 312), (1, 312), (1, 312), (1, 312), (0, 0, 1), (0, 0, 1), (0, 0, 1), (8,), (8,), (8,), (8,), (8,), (8,), (8,), (8,), (8,), (8,), (8,), (8,), (312, 1), (312, 1), (312, 1), (312, 1), (312, 1), (312, 1), (1, 312), (1, 312), (1, 312), (1, 312), (1, 312), (1, 312)]\nInputs values: [array(16), 'not shown', 'not shown', 'not shown', 'not shown', 'not shown', 'not shown', 'not shown', 'not shown', 'not shown', 'not shown', 'not shown', 'not shown', 'not shown', 'not shown', 'not shown', 'not shown', 'not shown', 'not shown', 'not shown', 'not shown', 'not shown', 'not shown', 'not shown', 'not shown', 'not shown', 'not shown', array(16), array(16), 'not shown', 'not shown', 'not shown', array([624, 312]), array([312, 312]), array([312, 312]), array([624, 312]), array([312, 312]), array([624, 312]), array([312]), array([312]), array([312]), array([312]), array([312]), array([312]), 'not shown', 'not shown', 'not shown', 'not shown', 'not shown', 'not shown', 'not shown', 'not shown', 'not shown', 'not shown', 'not shown', 'not shown', 'not shown', 'not shown', 'not shown', array([624, 312]), array([312, 312]), array([312, 312]), array([624, 312]), array([312, 312]), array([624, 312]), array([312]), array([312]), array([312]), array([312]), array([312]), array([312]), 'not shown', 'not shown', 'not shown', 'not shown', 'not shown', 'not shown', 'not shown', 'not shown', 'not shown', 'not shown', 'not shown', 'not shown']\nOutputs clients: [[GpuSubtensor{int64:int64:int64}(forall_inplace,gpu,grad_of_scan_fn&grad_of_scan_fn}.0, Constant{16}, Constant{15}, Constant{-1})], [GpuSubtensor{int64:int64:int64}(forall_inplace,gpu,grad_of_scan_fn&grad_of_scan_fn}.1, Constant{16}, Constant{15}, Constant{-1})], [GpuSubtensor{int64}(forall_inplace,gpu,grad_of_scan_fn&grad_of_scan_fn}.2, Constant{1})], [GpuSubtensor{int64}(forall_inplace,gpu,grad_of_scan_fn&grad_of_scan_fn}.3, Constant{1})], [GpuSubtensor{int64}(forall_inplace,gpu,grad_of_scan_fn&grad_of_scan_fn}.4, Constant{1})], [GpuSubtensor{int64}(forall_inplace,gpu,grad_of_scan_fn&grad_of_scan_fn}.5, Constant{1})], [GpuSubtensor{int64}(forall_inplace,gpu,grad_of_scan_fn&grad_of_scan_fn}.6, Constant{1})], [GpuSubtensor{int64}(forall_inplace,gpu,grad_of_scan_fn&grad_of_scan_fn}.7, Constant{1})], [GpuSubtensor{int64}(forall_inplace,gpu,grad_of_scan_fn&grad_of_scan_fn}.8, Constant{1})], [GpuSubtensor{int64}(forall_inplace,gpu,grad_of_scan_fn&grad_of_scan_fn}.9, Constant{1})], [GpuSubtensor{int64}(forall_inplace,gpu,grad_of_scan_fn&grad_of_scan_fn}.10, Constant{1})], [GpuSubtensor{int64}(forall_inplace,gpu,grad_of_scan_fn&grad_of_scan_fn}.11, Constant{1})], [GpuSubtensor{int64}(forall_inplace,gpu,grad_of_scan_fn&grad_of_scan_fn}.12, Constant{1})], [GpuSubtensor{int64}(forall_inplace,gpu,grad_of_scan_fn&grad_of_scan_fn}.13, Constant{1})], [GpuSubtensor{int64}(forall_inplace,gpu,grad_of_scan_fn&grad_of_scan_fn}.14, Constant{1})], [GpuSubtensor{int64}(forall_inplace,gpu,grad_of_scan_fn&grad_of_scan_fn}.15, Constant{1})], [GpuSubtensor{int64}(forall_inplace,gpu,grad_of_scan_fn&grad_of_scan_fn}.16, Constant{1})], [GpuSubtensor{int64}(forall_inplace,gpu,grad_of_scan_fn&grad_of_scan_fn}.17, Constant{1})], [GpuSubtensor{int64}(forall_inplace,gpu,grad_of_scan_fn&grad_of_scan_fn}.18, Constant{1})], [GpuSubtensor{int64}(forall_inplace,gpu,grad_of_scan_fn&grad_of_scan_fn}.19, Constant{1})], [GpuSubtensor{::int64}(forall_inplace,gpu,grad_of_scan_fn&grad_of_scan_fn}.20, Constant{-1})], [GpuSubtensor{::int64}(forall_inplace,gpu,grad_of_scan_fn&grad_of_scan_fn}.21, Constant{-1})]]\n\nHINT: Re-running with most Theano optimization disabled could give you a back-trace of when this node was created. This can be done with by setting the Theano flag 'optimizer=fast_compile'. If that does not work, Theano optimizations can be disabled with 'optimizer=None'.\nHINT: Use the Theano flag 'exception_verbosity=high' for a debugprint and storage map footprint of this apply node."
     ]
    }
   ],
   "source": [
    "param = {\n",
    "        'lr': 0.04,\n",
    "        'verbose': True,\n",
    "        'n_epochs':2000,\n",
    "        'batch_size':200,\n",
    "        'ds_rate':5,\n",
    "        'renet_d':312,\n",
    "        'w':32,\n",
    "        'h':32,\n",
    "        'c':3,\n",
    "        'patch_size':2,\n",
    "        'hidden_num':1,\n",
    "        'hidden_unit':1800\n",
    "    }\n",
    "test_renet(**param)"
   ]
  },
  {
   "cell_type": "code",
   "execution_count": null,
   "metadata": {
    "collapsed": true
   },
   "outputs": [],
   "source": []
  }
 ],
 "metadata": {
  "kernelspec": {
   "display_name": "Python 2",
   "language": "python",
   "name": "python2"
  },
  "language_info": {
   "codemirror_mode": {
    "name": "ipython",
    "version": 2
   },
   "file_extension": ".py",
   "mimetype": "text/x-python",
   "name": "python",
   "nbconvert_exporter": "python",
   "pygments_lexer": "ipython2",
   "version": "2.7.11"
  }
 },
 "nbformat": 4,
 "nbformat_minor": 0
}
